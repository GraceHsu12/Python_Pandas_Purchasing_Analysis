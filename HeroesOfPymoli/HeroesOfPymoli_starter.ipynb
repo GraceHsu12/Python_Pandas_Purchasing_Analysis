{
 "cells": [
  {
   "cell_type": "markdown",
   "metadata": {},
   "source": [
    "### Heroes Of Pymoli Data Analysis\n",
    "* Of the 576 players that purchase items, the vast majority are male (84%). There also exists, a smaller, but notable proportion of female players (14%).\n",
    "\n",
    "* Our peak age demographic falls between 20-24 (44.8%) with secondary groups falling between 15-19 (18.60%) and 25-29 (13.4%).\n",
    "* We sold 183 unique items and profitted $2379.77.\n",
    "\n",
    "* Our average selling price of for products is $3.05. Further, Our best selling item is 'Oathbreaker, Last Hope of the Breaking Storm'.\n",
    "\n",
    "\n",
    "-----"
   ]
  },
  {
   "cell_type": "markdown",
   "metadata": {},
   "source": [
    "### Note\n",
    "* Instructions have been included for each segment. You do not have to follow them exactly, but they are included to help you think through the steps."
   ]
  },
  {
   "cell_type": "code",
   "execution_count": null,
   "metadata": {},
   "outputs": [],
   "source": [
    "# Dependencies and Setup\n",
    "import pandas as pd\n",
    "import numpy as np\n",
    "\n",
    "# File to Load (Remember to Change These)\n",
    "file_to_load = \"Resources/purchase_data.csv\"\n",
    "\n",
    "# Read Purchasing File and store into Pandas data frame\n",
    "purchase_data = pd.read_csv(file_to_load)"
   ]
  },
  {
   "cell_type": "markdown",
   "metadata": {},
   "source": [
    "## Player Count"
   ]
  },
  {
   "cell_type": "markdown",
   "metadata": {},
   "source": [
    "* Display the total number of players"
   ]
  },
  {
   "cell_type": "code",
   "execution_count": null,
   "metadata": {},
   "outputs": [],
   "source": [
    "#Count total players and store it into a dataframe for display\n",
    "total_players = purchase_data['SN'].unique()\n",
    "total_players_count = len(total_players)\n",
    "total_players_df = pd.DataFrame({\n",
    "    \"Total Players\": [total_players_count]\n",
    "})\n",
    "total_players_df"
   ]
  },
  {
   "cell_type": "markdown",
   "metadata": {},
   "source": [
    "## Purchasing Analysis (Total)"
   ]
  },
  {
   "cell_type": "markdown",
   "metadata": {},
   "source": [
    "* Run basic calculations to obtain number of unique items, average price, etc.\n",
    "\n",
    "\n",
    "* Create a summary data frame to hold the results\n",
    "\n",
    "\n",
    "* Optional: give the displayed data cleaner formatting\n",
    "\n",
    "\n",
    "* Display the summary data frame\n"
   ]
  },
  {
   "cell_type": "code",
   "execution_count": null,
   "metadata": {
    "scrolled": true
   },
   "outputs": [],
   "source": [
    "unique_items = purchase_data['Item ID'].unique()\n",
    "unique_item_count = len(unique_items)\n",
    "\n",
    "average_price = purchase_data['Price'].mean()\n",
    "\n",
    "number_of_purchases = purchase_data['Purchase ID'].count()\n",
    "\n",
    "total_revenue = purchase_data['Price'].sum()\n",
    "\n",
    "purchasing_analysis = pd.DataFrame({\n",
    "    \"Number of Unique Items\": [unique_item_count],\n",
    "    \"Average Price\": [average_price],\n",
    "    \"Number of Purchase\": [number_of_purchases],\n",
    "    \"Total Revenue\": [total_revenue]\n",
    "})\n",
    "\n",
    "#format monetary values\n",
    "purchasing_analysis['Average Price'] = purchasing_analysis['Average Price'].map(\"${:.2f}\".format)\n",
    "purchasing_analysis['Total Revenue'] = purchasing_analysis['Total Revenue'].map(\"${:,.2f}\".format)\n",
    "\n",
    "purchasing_analysis\n"
   ]
  },
  {
   "cell_type": "markdown",
   "metadata": {},
   "source": [
    "## Gender Demographics"
   ]
  },
  {
   "cell_type": "markdown",
   "metadata": {},
   "source": [
    "* Percentage and Count of Male Players\n",
    "\n",
    "\n",
    "* Percentage and Count of Female Players\n",
    "\n",
    "\n",
    "* Percentage and Count of Other / Non-Disclosed\n",
    "\n",
    "\n"
   ]
  },
  {
   "cell_type": "code",
   "execution_count": null,
   "metadata": {},
   "outputs": [],
   "source": [
    "#create unique SN dataframe by dropping duplicates\n",
    "unique_SN_df = purchase_data.drop_duplicates(subset='SN', keep = 'first')\n",
    "unique_gender_group = unique_SN_df.groupby('Gender').count()\n",
    "\n",
    "#Count each gender group total count\n",
    "female_count = unique_gender_group['SN'].loc['Female']\n",
    "male_count = unique_gender_group['SN'].loc['Male']\n",
    "other_non_disclosed_count = unique_gender_group['SN'].loc['Other / Non-Disclosed']\n",
    "\n",
    "#Calculate gender percentage of total players\n",
    "\n",
    "female_percentage = 100 * (female_count / total_players_count)\n",
    "male_percentage = 100 * (male_count / total_players_count)\n",
    "other_non_disclosed_percentage = 100 * (other_non_disclosed_count / total_players_count)\n",
    "\n",
    "#create a data frame with gender summary of total count and percentage of players\n",
    "gender_summary_df = pd.DataFrame({\n",
    "    \"Gender\": [\"Female\", \"Male\", \"Other / Non-Disclosed\"],\n",
    "    \"Total Count\": [female_count, male_count, other_non_disclosed_count],\n",
    "    \"Percentage of Players\": [female_percentage, male_percentage, other_non_disclosed_percentage]\n",
    "})\n",
    "\n",
    "#format Percentage of Players column to 2 decimal places\n",
    "gender_summary_df['Percentage of Players'] = gender_summary_df['Percentage of Players'].map(\"{:.2f}\".format)\n",
    "\n",
    "# sort the datframe by highest count AND groupby Gender\n",
    "grouped_gender = gender_summary_df.groupby('Gender').max()\n",
    "grouped_gender.sort_values('Total Count', ascending = False)"
   ]
  },
  {
   "cell_type": "markdown",
   "metadata": {},
   "source": [
    "\n",
    "## Purchasing Analysis (Gender)"
   ]
  },
  {
   "cell_type": "markdown",
   "metadata": {},
   "source": [
    "* Run basic calculations to obtain purchase count, avg. purchase price, avg. purchase total per person etc. by gender\n",
    "\n",
    "\n",
    "\n",
    "\n",
    "* Create a summary data frame to hold the results\n",
    "\n",
    "\n",
    "* Optional: give the displayed data cleaner formatting\n",
    "\n",
    "\n",
    "\n",
    "* Display the summary data frame"
   ]
  },
  {
   "cell_type": "code",
   "execution_count": null,
   "metadata": {},
   "outputs": [],
   "source": [
    "#create an empty dataframe to store gender purchasing analysis\n",
    "gender_purchase_df = pd.DataFrame()\n",
    "\n",
    "#calculate per gender the : 'Purchase Count', 'Average purchase Price', 'Total Purchase Value', 'Average total purchase per person'\n",
    "gender_purchase_df['Purchase Count'] = purchase_data.groupby('Gender')['Purchase ID'].size()\n",
    "gender_purchase_df['Average Purchase Price'] = purchase_data.groupby('Gender')['Price'].mean()\n",
    "gender_purchase_df['Total Purchase Value'] = purchase_data.groupby('Gender')['Price'].sum()\n",
    "\n",
    "#create a dataframe for the sum of purchases ($) that is grouped by Gender and SN\n",
    "#\\to get sum of purchases by each user. Reset the index and regroup by Gender to get mean of price per user\n",
    "#\\in each gender category\n",
    "SN_purchases_avg = purchase_data.groupby(['Gender', 'SN'])[['Price']].sum().reset_index()\n",
    "gender_purchase_df['Avg Total Purchase per Person'] = SN_purchases_avg.groupby(['Gender'])['Price'].mean()\n",
    "\n",
    "#reformat average purchases to display 2 decimal plays\n",
    "gender_purchase_df['Average Purchase Price'] = gender_purchase_df['Average Purchase Price'].map(\"${:.2f}\".format)\n",
    "gender_purchase_df['Total Purchase Value'] = gender_purchase_df['Total Purchase Value'].map(\"${:,.2f}\".format)\n",
    "gender_purchase_df['Avg Total Purchase per Person'] = gender_purchase_df['Avg Total Purchase per Person'].map(\"${:,.2f}\".format)\n",
    "\n",
    "gender_purchase_df"
   ]
  },
  {
   "cell_type": "markdown",
   "metadata": {},
   "source": [
    "## Age Demographics"
   ]
  },
  {
   "cell_type": "markdown",
   "metadata": {},
   "source": [
    "* Establish bins for ages\n",
    "\n",
    "\n",
    "* Categorize the existing players using the age bins. Hint: use pd.cut()\n",
    "\n",
    "\n",
    "* Calculate the numbers and percentages by age group\n",
    "\n",
    "\n",
    "* Create a summary data frame to hold the results\n",
    "\n",
    "\n",
    "* Optional: round the percentage column to two decimal points\n",
    "\n",
    "\n",
    "* Display Age Demographics Table\n"
   ]
  },
  {
   "cell_type": "code",
   "execution_count": null,
   "metadata": {
    "scrolled": true
   },
   "outputs": [],
   "source": [
    "age_bin = [0, 9, 14, 19, 24, 29, 34, 39, 200]\n",
    "age_categories = ['<10', '10-14', '15-19', '20-24', '25-29', '30-34', '35-39', '40+']\n",
    "\n",
    "#bin unique players by age_group\n",
    "unique_SN_df['age_group'] = pd.cut(unique_SN_df['Age'], age_bin, labels=age_categories)\n",
    "\n",
    "\n",
    "#age_demographics is a series\n",
    "total_age_count_category= unique_SN_df['age_group'].value_counts()\n",
    "total_players = total_age_count_category.sum()\n",
    "\n",
    "#create an empty dataframe to hold age demographics data\n",
    "age_demographics = pd.DataFrame()\n",
    "#Calculate total players per age group; calculate percentage of playeres in each age group\n",
    "age_demographics['Total Count'] = unique_SN_df.groupby('age_group')['SN'].count()\n",
    "age_demographics['Percentage of Players'] = [(each/total_players)*100 for each in unique_SN_df.groupby('age_group')['SN'].count()]\n",
    "\n",
    "#format percentages\n",
    "age_demographics['Percentage of Players'] = age_demographics['Percentage of Players'].map(\"{:.2f}\".format)\n",
    "\n",
    "\n",
    "age_demographics.head(8)\n",
    "\n"
   ]
  },
  {
   "cell_type": "markdown",
   "metadata": {},
   "source": [
    "## Purchasing Analysis (Age)"
   ]
  },
  {
   "cell_type": "markdown",
   "metadata": {},
   "source": [
    "* Bin the purchase_data data frame by age\n",
    "\n",
    "\n",
    "* Run basic calculations to obtain purchase count, avg. purchase price, avg. purchase total per person etc. in the table below\n",
    "\n",
    "\n",
    "* Create a summary data frame to hold the results\n",
    "\n",
    "\n",
    "* Optional: give the displayed data cleaner formatting\n",
    "\n",
    "\n",
    "* Display the summary data frame"
   ]
  },
  {
   "cell_type": "code",
   "execution_count": null,
   "metadata": {},
   "outputs": [],
   "source": [
    "age_bin = [0, 9, 14, 19, 24, 29, 34, 39, 200]\n",
    "age_categories = ['<10', '10-14', '15-19', '20-24', '25-29', '30-34', '35-39', '40+']\n",
    "\n",
    "#add age_group column to purchase_data dataframe\n",
    "purchase_data['age_group'] = pd.cut(purchase_data['Age'], age_bin, labels=age_categories)\n",
    "\n",
    "#Create empty dataframe to store purchasing analysis\n",
    "purchasing_analysis_df = pd.DataFrame()\n",
    "grouped_purchases_age = purchase_data.groupby('age_group')\n",
    "\n",
    "#calculate purchase count, average purchase price, total purchase value, and average total purchase per person\n",
    "#for each age group\n",
    "\n",
    "purchasing_analysis_df['Purchase Count'] = grouped_purchases_age['Purchase ID'].size()\n",
    "purchasing_analysis_df['Average Purchase Price'] = grouped_purchases_age['Price'].mean()\n",
    "purchasing_analysis_df['Total Purchase Value'] = grouped_purchases_age['Price'].sum()\n",
    "#calculate sum of prices per person. Then reset index, regroup by age_group and find average total purchase per person.\n",
    "avg_tot_purchase_person = purchase_data.groupby(['age_group', 'SN'])['Price'].sum().reset_index()\n",
    "purchasing_analysis_df['Avg Total Purchase per Person'] = avg_tot_purchase_person.groupby('age_group')['Price'].mean()\n",
    "\n",
    "#reformat values with prices to include '$'\n",
    "purchasing_analysis_df['Average Purchase Price'] = purchasing_analysis_df['Average Purchase Price'].map(\"${:.2f}\".format)\n",
    "purchasing_analysis_df['Total Purchase Value'] = purchasing_analysis_df['Total Purchase Value'].map(\"${:,.2f}\".format)\n",
    "purchasing_analysis_df['Avg Total Purchase per Person'] = purchasing_analysis_df['Avg Total Purchase per Person'].map(\"${:.2f}\".format)\n",
    "\n",
    "\n",
    "purchasing_analysis_df.head(8)"
   ]
  },
  {
   "cell_type": "markdown",
   "metadata": {},
   "source": [
    "## Top Spenders"
   ]
  },
  {
   "cell_type": "markdown",
   "metadata": {},
   "source": [
    "* Run basic calculations to obtain the results in the table below\n",
    "\n",
    "\n",
    "* Create a summary data frame to hold the results\n",
    "\n",
    "\n",
    "* Sort the total purchase value column in descending order\n",
    "\n",
    "\n",
    "* Optional: give the displayed data cleaner formatting\n",
    "\n",
    "\n",
    "* Display a preview of the summary data frame\n",
    "\n"
   ]
  },
  {
   "cell_type": "code",
   "execution_count": null,
   "metadata": {},
   "outputs": [],
   "source": [
    "#create empty dataframe for top_spenders\n",
    "top_spenders_df = pd.DataFrame()\n",
    "#group purchase data by 'SN' for unique users\n",
    "SN_groups = purchase_data.groupby('SN')\n",
    "#calculate purchase count for each SN, Average Purchase price, and total Purchase value\n",
    "top_spenders_df['Purchase Count'] = SN_groups['Price'].count()\n",
    "top_spenders_df['Average Purchase Price'] = SN_groups['Price'].mean()\n",
    "top_spenders_df['Total Purchase Value'] = SN_groups['Price'].sum()\n",
    "top_spenders_df = top_spenders_df.sort_values(by=[\"Total Purchase Value\"], ascending = False)\n",
    "#format prices to include '$'\n",
    "top_spenders_df['Average Purchase Price'] = top_spenders_df['Average Purchase Price'].map(\"${:.2f}\".format)\n",
    "top_spenders_df['Total Purchase Value'] = top_spenders_df['Total Purchase Value'].map(\"${:.2f}\".format)\n",
    "\n",
    "top_spenders_df.head()"
   ]
  },
  {
   "cell_type": "markdown",
   "metadata": {},
   "source": [
    "## Most Popular Items"
   ]
  },
  {
   "cell_type": "markdown",
   "metadata": {},
   "source": [
    "* Retrieve the Item ID, Item Name, and Item Price columns\n",
    "\n",
    "\n",
    "* Group by Item ID and Item Name. Perform calculations to obtain purchase count, item price, and total purchase value\n",
    "\n",
    "\n",
    "* Create a summary data frame to hold the results\n",
    "\n",
    "\n",
    "* Sort the purchase count column in descending order\n",
    "\n",
    "\n",
    "* Optional: give the displayed data cleaner formatting\n",
    "\n",
    "\n",
    "* Display a preview of the summary data frame\n",
    "\n"
   ]
  },
  {
   "cell_type": "code",
   "execution_count": null,
   "metadata": {},
   "outputs": [],
   "source": [
    "#create empty dataframe for most popular items\n",
    "most_pop_items = pd.DataFrame()\n",
    "#create a variable for the groupby items for easier typing\n",
    "item_grouped = purchase_data.groupby(['Item ID', 'Item Name'])\n",
    "#calculate purchase counts and item price per item. Then multiply purchase count * item price to get \n",
    "#total purchase value for each item\n",
    "most_pop_items['Purchase Count'] = item_grouped['Item Name'].count()\n",
    "most_pop_items['Item Price'] = item_grouped['Price'].sum() / most_pop_items['Purchase Count']\n",
    "most_pop_items['Total Purchase Value'] = most_pop_items['Purchase Count'] * most_pop_items['Item Price']\n",
    "most_pop_items = most_pop_items.sort_values(by='Purchase Count', ascending = False)\n",
    "#Format prices '$'\n",
    "most_pop_items['Item Price']= most_pop_items['Item Price'].map(\"${:.2f}\".format)\n",
    "most_pop_items['Total Purchase Value'] = most_pop_items['Total Purchase Value'].map(\"${:.2f}\".format)\n",
    "\n",
    "most_pop_items.head()"
   ]
  },
  {
   "cell_type": "code",
   "execution_count": null,
   "metadata": {},
   "outputs": [],
   "source": []
  },
  {
   "cell_type": "markdown",
   "metadata": {},
   "source": [
    "## Most Profitable Items"
   ]
  },
  {
   "cell_type": "markdown",
   "metadata": {},
   "source": [
    "* Sort the above table by total purchase value in descending order\n",
    "\n",
    "\n",
    "* Optional: give the displayed data cleaner formatting\n",
    "\n",
    "\n",
    "* Display a preview of the data frame\n",
    "\n"
   ]
  },
  {
   "cell_type": "code",
   "execution_count": null,
   "metadata": {
    "scrolled": true
   },
   "outputs": [],
   "source": [
    "#store most popular items dataframe into new dataframe for most_profit_items\n",
    "most_profit_items = most_pop_items\n",
    "#replace '$' to '' so we can use to_numeric method\n",
    "most_profit_items['Total Purchase Value'] = most_pop_items['Total Purchase Value'].apply(lambda x: x.replace('$', ''))\n",
    "#convert Total Purchase Value column back to numeric form without '$' to sort values\n",
    "most_profit_items['Total Purchase Value'] = pd.to_numeric(most_profit_items['Total Purchase Value'])\n",
    "#Sort numbers by Total Purchase Value from highest to lowest\n",
    "most_profit_items = most_profit_items.sort_values(by='Total Purchase Value', ascending=False)\n",
    "#convert Total Purchase Value column to a string containing '$'\n",
    "most_profit_items['Total Purchase Value'] = most_profit_items['Total Purchase Value'].map(\"${:.2f}\".format)\n",
    "most_profit_items.head()"
   ]
  },
  {
   "cell_type": "code",
   "execution_count": null,
   "metadata": {},
   "outputs": [],
   "source": []
  }
 ],
 "metadata": {
  "anaconda-cloud": {},
  "kernel_info": {
   "name": "python3"
  },
  "kernelspec": {
   "display_name": "Python 3",
   "language": "python",
   "name": "python3"
  },
  "language_info": {
   "codemirror_mode": {
    "name": "ipython",
    "version": 3
   },
   "file_extension": ".py",
   "mimetype": "text/x-python",
   "name": "python",
   "nbconvert_exporter": "python",
   "pygments_lexer": "ipython3",
   "version": "3.7.0"
  },
  "nteract": {
   "version": "0.2.0"
  }
 },
 "nbformat": 4,
 "nbformat_minor": 2
}
